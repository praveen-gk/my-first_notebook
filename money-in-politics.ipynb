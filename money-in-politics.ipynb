{
 "cells": [
  {
   "cell_type": "markdown",
   "metadata": {},
   "source": [
    "# My analysis on money in politics"
   ]
  },
  {
   "cell_type": "code",
   "execution_count": 94,
   "metadata": {
    "collapsed": true
   },
   "outputs": [],
   "source": [
    "import pandas as pd"
   ]
  },
  {
   "cell_type": "code",
   "execution_count": 95,
   "metadata": {
    "collapsed": true
   },
   "outputs": [],
   "source": [
    "props=pd.read_csv(r'committees.csv')"
   ]
  },
  {
   "cell_type": "code",
   "execution_count": 96,
   "metadata": {},
   "outputs": [
    {
     "data": {
      "text/html": [
       "<div>\n",
       "<style>\n",
       "    .dataframe thead tr:only-child th {\n",
       "        text-align: right;\n",
       "    }\n",
       "\n",
       "    .dataframe thead th {\n",
       "        text-align: left;\n",
       "    }\n",
       "\n",
       "    .dataframe tbody tr th {\n",
       "        vertical-align: top;\n",
       "    }\n",
       "</style>\n",
       "<table border=\"1\" class=\"dataframe\">\n",
       "  <thead>\n",
       "    <tr style=\"text-align: right;\">\n",
       "      <th></th>\n",
       "      <th>ocd_prop_id</th>\n",
       "      <th>calaccess_prop_id</th>\n",
       "      <th>ccdc_prop_id</th>\n",
       "      <th>prop_name</th>\n",
       "      <th>ccdc_committee_id</th>\n",
       "      <th>calaccess_committee_id</th>\n",
       "      <th>committee_name</th>\n",
       "      <th>committee_position</th>\n",
       "    </tr>\n",
       "  </thead>\n",
       "  <tbody>\n",
       "    <tr>\n",
       "      <th>0</th>\n",
       "      <td>ocd-contest/b51dc64d-3562-4913-a190-69f5088c22a6</td>\n",
       "      <td>1376258</td>\n",
       "      <td>70</td>\n",
       "      <td>PROPOSITION 051 - SCHOOL BONDS. FUNDING FOR K-...</td>\n",
       "      <td>382</td>\n",
       "      <td>1374469</td>\n",
       "      <td>YES ON PROPOSITION 51 - CALIFORNIANS FOR QUALI...</td>\n",
       "      <td>SUPPORT</td>\n",
       "    </tr>\n",
       "    <tr>\n",
       "      <th>1</th>\n",
       "      <td>ocd-contest/b51dc64d-3562-4913-a190-69f5088c22a6</td>\n",
       "      <td>1376258</td>\n",
       "      <td>70</td>\n",
       "      <td>PROPOSITION 051 - SCHOOL BONDS. FUNDING FOR K-...</td>\n",
       "      <td>383</td>\n",
       "      <td>1220380</td>\n",
       "      <td>COMMUNITY COLLEGE FACILITY COALITION ISSUES CO...</td>\n",
       "      <td>SUPPORT</td>\n",
       "    </tr>\n",
       "    <tr>\n",
       "      <th>2</th>\n",
       "      <td>ocd-contest/b51dc64d-3562-4913-a190-69f5088c22a6</td>\n",
       "      <td>1376258</td>\n",
       "      <td>70</td>\n",
       "      <td>PROPOSITION 051 - SCHOOL BONDS. FUNDING FOR K-...</td>\n",
       "      <td>384</td>\n",
       "      <td>1282321</td>\n",
       "      <td>TORLAKSON'S INVEST IN CALIFORNIA A BALLOT MEAS...</td>\n",
       "      <td>SUPPORT</td>\n",
       "    </tr>\n",
       "    <tr>\n",
       "      <th>3</th>\n",
       "      <td>ocd-contest/b51dc64d-3562-4913-a190-69f5088c22a6</td>\n",
       "      <td>1376258</td>\n",
       "      <td>70</td>\n",
       "      <td>PROPOSITION 051 - SCHOOL BONDS. FUNDING FOR K-...</td>\n",
       "      <td>385</td>\n",
       "      <td>1382843</td>\n",
       "      <td>CALIFORNIA TAXPAYERS AND EDUCATORS OPPOSED TO ...</td>\n",
       "      <td>OPPOSE</td>\n",
       "    </tr>\n",
       "    <tr>\n",
       "      <th>4</th>\n",
       "      <td>ocd-contest/85990193-9d6f-4600-b8e7-bf1317841d82</td>\n",
       "      <td>1362198</td>\n",
       "      <td>71</td>\n",
       "      <td>PROPOSITION 052 - STATE FEES ON HOSPITALS. FED...</td>\n",
       "      <td>386</td>\n",
       "      <td>1362973</td>\n",
       "      <td>YES ON PROPOSITION 52 - A COALITION OF CALIFOR...</td>\n",
       "      <td>SUPPORT</td>\n",
       "    </tr>\n",
       "  </tbody>\n",
       "</table>\n",
       "</div>"
      ],
      "text/plain": [
       "                                        ocd_prop_id  calaccess_prop_id  \\\n",
       "0  ocd-contest/b51dc64d-3562-4913-a190-69f5088c22a6            1376258   \n",
       "1  ocd-contest/b51dc64d-3562-4913-a190-69f5088c22a6            1376258   \n",
       "2  ocd-contest/b51dc64d-3562-4913-a190-69f5088c22a6            1376258   \n",
       "3  ocd-contest/b51dc64d-3562-4913-a190-69f5088c22a6            1376258   \n",
       "4  ocd-contest/85990193-9d6f-4600-b8e7-bf1317841d82            1362198   \n",
       "\n",
       "   ccdc_prop_id                                          prop_name  \\\n",
       "0            70  PROPOSITION 051 - SCHOOL BONDS. FUNDING FOR K-...   \n",
       "1            70  PROPOSITION 051 - SCHOOL BONDS. FUNDING FOR K-...   \n",
       "2            70  PROPOSITION 051 - SCHOOL BONDS. FUNDING FOR K-...   \n",
       "3            70  PROPOSITION 051 - SCHOOL BONDS. FUNDING FOR K-...   \n",
       "4            71  PROPOSITION 052 - STATE FEES ON HOSPITALS. FED...   \n",
       "\n",
       "   ccdc_committee_id  calaccess_committee_id  \\\n",
       "0                382                 1374469   \n",
       "1                383                 1220380   \n",
       "2                384                 1282321   \n",
       "3                385                 1382843   \n",
       "4                386                 1362973   \n",
       "\n",
       "                                      committee_name committee_position  \n",
       "0  YES ON PROPOSITION 51 - CALIFORNIANS FOR QUALI...            SUPPORT  \n",
       "1  COMMUNITY COLLEGE FACILITY COALITION ISSUES CO...            SUPPORT  \n",
       "2  TORLAKSON'S INVEST IN CALIFORNIA A BALLOT MEAS...            SUPPORT  \n",
       "3  CALIFORNIA TAXPAYERS AND EDUCATORS OPPOSED TO ...             OPPOSE  \n",
       "4  YES ON PROPOSITION 52 - A COALITION OF CALIFOR...            SUPPORT  "
      ]
     },
     "execution_count": 96,
     "metadata": {},
     "output_type": "execute_result"
    }
   ],
   "source": [
    "props.head()"
   ]
  },
  {
   "cell_type": "code",
   "execution_count": 97,
   "metadata": {
    "scrolled": true
   },
   "outputs": [
    {
     "data": {
      "text/plain": [
       "1383319    13\n",
       "1381640    12\n",
       "1381868    11\n",
       "1381724     9\n",
       "1382647     8\n",
       "1381268     7\n",
       "1372638     7\n",
       "1386783     6\n",
       "1381642     4\n",
       "1376142     4\n",
       "1382395     4\n",
       "1381803     4\n",
       "1376258     4\n",
       "1362198     3\n",
       "1377343     3\n",
       "1376195     2\n",
       "1381520     1\n",
       "Name: calaccess_prop_id, dtype: int64"
      ]
     },
     "execution_count": 97,
     "metadata": {},
     "output_type": "execute_result"
    }
   ],
   "source": [
    "props.calaccess_prop_id.value_counts()"
   ]
  },
  {
   "cell_type": "code",
   "execution_count": 98,
   "metadata": {},
   "outputs": [
    {
     "data": {
      "text/plain": [
       "SUPPORT    11\n",
       "OPPOSE      2\n",
       "Name: committee_position, dtype: int64"
      ]
     },
     "execution_count": 98,
     "metadata": {},
     "output_type": "execute_result"
    }
   ],
   "source": [
    "props[props['calaccess_prop_id']==1383319].committee_position.value_counts()"
   ]
  },
  {
   "cell_type": "code",
   "execution_count": 99,
   "metadata": {
    "collapsed": true
   },
   "outputs": [],
   "source": [
    "data=props[['ocd_prop_id','prop_name','committee_position']].groupby(['prop_name','committee_position'],as_index=False).count().sort_values('ocd_prop_id',ascending=False)"
   ]
  },
  {
   "cell_type": "code",
   "execution_count": 100,
   "metadata": {
    "collapsed": true
   },
   "outputs": [],
   "source": [
    "contribs=pd.read_csv(r'contributions.csv')"
   ]
  },
  {
   "cell_type": "code",
   "execution_count": 101,
   "metadata": {},
   "outputs": [
    {
     "data": {
      "text/html": [
       "<div>\n",
       "<style>\n",
       "    .dataframe thead tr:only-child th {\n",
       "        text-align: right;\n",
       "    }\n",
       "\n",
       "    .dataframe thead th {\n",
       "        text-align: left;\n",
       "    }\n",
       "\n",
       "    .dataframe tbody tr th {\n",
       "        vertical-align: top;\n",
       "    }\n",
       "</style>\n",
       "<table border=\"1\" class=\"dataframe\">\n",
       "  <thead>\n",
       "    <tr style=\"text-align: right;\">\n",
       "      <th></th>\n",
       "      <th>calaccess_committee_id</th>\n",
       "      <th>committee_name</th>\n",
       "      <th>calaccess_filing_id</th>\n",
       "      <th>date_received</th>\n",
       "      <th>contributor_lastname</th>\n",
       "      <th>contributor_firstname</th>\n",
       "      <th>contributor_city</th>\n",
       "      <th>contributor_state</th>\n",
       "      <th>contributor_zip</th>\n",
       "      <th>contributor_employer</th>\n",
       "      <th>contributor_occupation</th>\n",
       "      <th>contributor_is_self_employed</th>\n",
       "      <th>amount</th>\n",
       "    </tr>\n",
       "  </thead>\n",
       "  <tbody>\n",
       "    <tr>\n",
       "      <th>0</th>\n",
       "      <td>1386560</td>\n",
       "      <td>ADULT USE CAMPAIGN FOR PROPOSITION 64; THE</td>\n",
       "      <td>2083796</td>\n",
       "      <td>2016-09-18</td>\n",
       "      <td>BERGMAN</td>\n",
       "      <td>GRETCHEN</td>\n",
       "      <td>SPRING VALLEY</td>\n",
       "      <td>CA</td>\n",
       "      <td>91978</td>\n",
       "      <td>A NEW PATH</td>\n",
       "      <td>EXECUTIVE DIRECTOR</td>\n",
       "      <td>False</td>\n",
       "      <td>84.0</td>\n",
       "    </tr>\n",
       "    <tr>\n",
       "      <th>1</th>\n",
       "      <td>1386560</td>\n",
       "      <td>ADULT USE CAMPAIGN FOR PROPOSITION 64; THE</td>\n",
       "      <td>2083796</td>\n",
       "      <td>2016-09-18</td>\n",
       "      <td>KAHLE</td>\n",
       "      <td>MYRNA</td>\n",
       "      <td>SAN DIEGO</td>\n",
       "      <td>CA</td>\n",
       "      <td>92109</td>\n",
       "      <td>NATIONAL SCHOOL DISTRICT</td>\n",
       "      <td>TEACHER</td>\n",
       "      <td>False</td>\n",
       "      <td>35.0</td>\n",
       "    </tr>\n",
       "    <tr>\n",
       "      <th>2</th>\n",
       "      <td>1386560</td>\n",
       "      <td>ADULT USE CAMPAIGN FOR PROPOSITION 64; THE</td>\n",
       "      <td>2083796</td>\n",
       "      <td>2016-07-15</td>\n",
       "      <td>MCDEVITT</td>\n",
       "      <td>LEO</td>\n",
       "      <td>ESCONDIDO</td>\n",
       "      <td>CA</td>\n",
       "      <td>92025</td>\n",
       "      <td>LIFE IONIZERS</td>\n",
       "      <td>SEO/CONTENT MANAGER</td>\n",
       "      <td>False</td>\n",
       "      <td>198.0</td>\n",
       "    </tr>\n",
       "    <tr>\n",
       "      <th>3</th>\n",
       "      <td>1386560</td>\n",
       "      <td>ADULT USE CAMPAIGN FOR PROPOSITION 64; THE</td>\n",
       "      <td>2083796</td>\n",
       "      <td>2016-08-10</td>\n",
       "      <td>WARREN-SAMARIPA</td>\n",
       "      <td>STEPHANIE</td>\n",
       "      <td>SAN DIEGO</td>\n",
       "      <td>CA</td>\n",
       "      <td>92116</td>\n",
       "      <td>STEPHANIE WARREN SAMARIPA</td>\n",
       "      <td>ENTREPRENEUR</td>\n",
       "      <td>False</td>\n",
       "      <td>-50.0</td>\n",
       "    </tr>\n",
       "    <tr>\n",
       "      <th>4</th>\n",
       "      <td>1386560</td>\n",
       "      <td>ADULT USE CAMPAIGN FOR PROPOSITION 64; THE</td>\n",
       "      <td>2083796</td>\n",
       "      <td>2016-07-26</td>\n",
       "      <td>WARREN-SAMARIPA</td>\n",
       "      <td>STEPHANIE</td>\n",
       "      <td>SAN DIEGO</td>\n",
       "      <td>CA</td>\n",
       "      <td>92116</td>\n",
       "      <td>STEPHANIE WARREN SAMARIPA</td>\n",
       "      <td>ENTREPRENEUR</td>\n",
       "      <td>True</td>\n",
       "      <td>50.0</td>\n",
       "    </tr>\n",
       "  </tbody>\n",
       "</table>\n",
       "</div>"
      ],
      "text/plain": [
       "   calaccess_committee_id                              committee_name  \\\n",
       "0                 1386560  ADULT USE CAMPAIGN FOR PROPOSITION 64; THE   \n",
       "1                 1386560  ADULT USE CAMPAIGN FOR PROPOSITION 64; THE   \n",
       "2                 1386560  ADULT USE CAMPAIGN FOR PROPOSITION 64; THE   \n",
       "3                 1386560  ADULT USE CAMPAIGN FOR PROPOSITION 64; THE   \n",
       "4                 1386560  ADULT USE CAMPAIGN FOR PROPOSITION 64; THE   \n",
       "\n",
       "   calaccess_filing_id date_received contributor_lastname  \\\n",
       "0              2083796    2016-09-18              BERGMAN   \n",
       "1              2083796    2016-09-18                KAHLE   \n",
       "2              2083796    2016-07-15             MCDEVITT   \n",
       "3              2083796    2016-08-10      WARREN-SAMARIPA   \n",
       "4              2083796    2016-07-26      WARREN-SAMARIPA   \n",
       "\n",
       "  contributor_firstname contributor_city contributor_state contributor_zip  \\\n",
       "0              GRETCHEN    SPRING VALLEY                CA           91978   \n",
       "1                 MYRNA        SAN DIEGO                CA           92109   \n",
       "2                   LEO        ESCONDIDO                CA           92025   \n",
       "3             STEPHANIE        SAN DIEGO                CA           92116   \n",
       "4             STEPHANIE        SAN DIEGO                CA           92116   \n",
       "\n",
       "        contributor_employer contributor_occupation  \\\n",
       "0                 A NEW PATH     EXECUTIVE DIRECTOR   \n",
       "1   NATIONAL SCHOOL DISTRICT                TEACHER   \n",
       "2              LIFE IONIZERS    SEO/CONTENT MANAGER   \n",
       "3  STEPHANIE WARREN SAMARIPA           ENTREPRENEUR   \n",
       "4  STEPHANIE WARREN SAMARIPA           ENTREPRENEUR   \n",
       "\n",
       "   contributor_is_self_employed  amount  \n",
       "0                         False    84.0  \n",
       "1                         False    35.0  \n",
       "2                         False   198.0  \n",
       "3                         False   -50.0  \n",
       "4                          True    50.0  "
      ]
     },
     "execution_count": 101,
     "metadata": {},
     "output_type": "execute_result"
    }
   ],
   "source": [
    "contribs.head()"
   ]
  },
  {
   "cell_type": "code",
   "execution_count": 102,
   "metadata": {},
   "outputs": [
    {
     "name": "stdout",
     "output_type": "stream",
     "text": [
      "<class 'pandas.core.frame.DataFrame'>\n",
      "RangeIndex: 56379 entries, 0 to 56378\n",
      "Data columns (total 13 columns):\n",
      "calaccess_committee_id          56379 non-null int64\n",
      "committee_name                  56379 non-null object\n",
      "calaccess_filing_id             56379 non-null int64\n",
      "date_received                   56379 non-null object\n",
      "contributor_lastname            56375 non-null object\n",
      "contributor_firstname           53411 non-null object\n",
      "contributor_city                56369 non-null object\n",
      "contributor_state               56363 non-null object\n",
      "contributor_zip                 56366 non-null object\n",
      "contributor_employer            48572 non-null object\n",
      "contributor_occupation          53273 non-null object\n",
      "contributor_is_self_employed    56379 non-null bool\n",
      "amount                          56379 non-null float64\n",
      "dtypes: bool(1), float64(1), int64(2), object(9)\n",
      "memory usage: 3.3+ MB\n"
     ]
    }
   ],
   "source": [
    "contribs.info()"
   ]
  },
  {
   "cell_type": "code",
   "execution_count": 103,
   "metadata": {},
   "outputs": [
    {
     "data": {
      "text/plain": [
       "0      PROPOSITION 051 - SCHOOL BONDS. FUNDING FOR K-...\n",
       "1      PROPOSITION 051 - SCHOOL BONDS. FUNDING FOR K-...\n",
       "2      PROPOSITION 051 - SCHOOL BONDS. FUNDING FOR K-...\n",
       "3      PROPOSITION 051 - SCHOOL BONDS. FUNDING FOR K-...\n",
       "4      PROPOSITION 052 - STATE FEES ON HOSPITALS. FED...\n",
       "5      PROPOSITION 052 - STATE FEES ON HOSPITALS. FED...\n",
       "6      PROPOSITION 052 - STATE FEES ON HOSPITALS. FED...\n",
       "7      PROPOSITION 053 - REVENUE BONDS. STATEWIDE VOT...\n",
       "8      PROPOSITION 053 - REVENUE BONDS. STATEWIDE VOT...\n",
       "9      PROPOSITION 053 - REVENUE BONDS. STATEWIDE VOT...\n",
       "10     PROPOSITION 053 - REVENUE BONDS. STATEWIDE VOT...\n",
       "11     PROPOSITION 054 - LEGISLATURE. LEGISLATION AND...\n",
       "12     PROPOSITION 054 - LEGISLATURE. LEGISLATION AND...\n",
       "13     PROPOSITION 054 - LEGISLATURE. LEGISLATION AND...\n",
       "14     PROPOSITION 054 - LEGISLATURE. LEGISLATION AND...\n",
       "15     PROPOSITION 055 - TAX EXTENSION TO FUND EDUCAT...\n",
       "16     PROPOSITION 055 - TAX EXTENSION TO FUND EDUCAT...\n",
       "17     PROPOSITION 055 - TAX EXTENSION TO FUND EDUCAT...\n",
       "18     PROPOSITION 055 - TAX EXTENSION TO FUND EDUCAT...\n",
       "19     PROPOSITION 055 - TAX EXTENSION TO FUND EDUCAT...\n",
       "20     PROPOSITION 055 - TAX EXTENSION TO FUND EDUCAT...\n",
       "21     PROPOSITION 055 - TAX EXTENSION TO FUND EDUCAT...\n",
       "22     PROPOSITION 055 - TAX EXTENSION TO FUND EDUCAT...\n",
       "23     PROPOSITION 056 - CIGARETTE TAX TO FUND HEALTH...\n",
       "24     PROPOSITION 056 - CIGARETTE TAX TO FUND HEALTH...\n",
       "25     PROPOSITION 056 - CIGARETTE TAX TO FUND HEALTH...\n",
       "26     PROPOSITION 056 - CIGARETTE TAX TO FUND HEALTH...\n",
       "27     PROPOSITION 056 - CIGARETTE TAX TO FUND HEALTH...\n",
       "28     PROPOSITION 056 - CIGARETTE TAX TO FUND HEALTH...\n",
       "29     PROPOSITION 056 - CIGARETTE TAX TO FUND HEALTH...\n",
       "                             ...                        \n",
       "72     PROPOSITION 063- FIREARMS. AMMUNITION SALES. I...\n",
       "73     PROPOSITION 063- FIREARMS. AMMUNITION SALES. I...\n",
       "74     PROPOSITION 064- MARIJUANA LEGALIZATION. INITI...\n",
       "75     PROPOSITION 064- MARIJUANA LEGALIZATION. INITI...\n",
       "76     PROPOSITION 064- MARIJUANA LEGALIZATION. INITI...\n",
       "77     PROPOSITION 064- MARIJUANA LEGALIZATION. INITI...\n",
       "78     PROPOSITION 064- MARIJUANA LEGALIZATION. INITI...\n",
       "79     PROPOSITION 064- MARIJUANA LEGALIZATION. INITI...\n",
       "80     PROPOSITION 064- MARIJUANA LEGALIZATION. INITI...\n",
       "81     PROPOSITION 064- MARIJUANA LEGALIZATION. INITI...\n",
       "82     PROPOSITION 064- MARIJUANA LEGALIZATION. INITI...\n",
       "83     PROPOSITION 064- MARIJUANA LEGALIZATION. INITI...\n",
       "84     PROPOSITION 064- MARIJUANA LEGALIZATION. INITI...\n",
       "85     PROPOSITION 065- CARRY-OUT BAGS. CHARGES. INIT...\n",
       "86     PROPOSITION 066- DEATH PENALTY. PROCEDURES. IN...\n",
       "87     PROPOSITION 066- DEATH PENALTY. PROCEDURES. IN...\n",
       "88     PROPOSITION 066- DEATH PENALTY. PROCEDURES. IN...\n",
       "89     PROPOSITION 066- DEATH PENALTY. PROCEDURES. IN...\n",
       "90     PROPOSITION 066- DEATH PENALTY. PROCEDURES. IN...\n",
       "91     PROPOSITION 066- DEATH PENALTY. PROCEDURES. IN...\n",
       "92     PROPOSITION 066- DEATH PENALTY. PROCEDURES. IN...\n",
       "93     PROPOSITION 066- DEATH PENALTY. PROCEDURES. IN...\n",
       "94     PROPOSITION 066- DEATH PENALTY. PROCEDURES. IN...\n",
       "95     PROPOSITION 067- REFERENDUM TO OVERTURN BAN ON...\n",
       "96     PROPOSITION 067- REFERENDUM TO OVERTURN BAN ON...\n",
       "97     PROPOSITION 067- REFERENDUM TO OVERTURN BAN ON...\n",
       "98     PROPOSITION 067- REFERENDUM TO OVERTURN BAN ON...\n",
       "99     PROPOSITION 067- REFERENDUM TO OVERTURN BAN ON...\n",
       "100    PROPOSITION 067- REFERENDUM TO OVERTURN BAN ON...\n",
       "101    PROPOSITION 067- REFERENDUM TO OVERTURN BAN ON...\n",
       "Name: prop_name, Length: 102, dtype: object"
      ]
     },
     "execution_count": 103,
     "metadata": {},
     "output_type": "execute_result"
    }
   ],
   "source": [
    "type(props.prop_name)\n",
    "props.prop_name"
   ]
  },
  {
   "cell_type": "code",
   "execution_count": 104,
   "metadata": {},
   "outputs": [
    {
     "data": {
      "text/plain": [
       "PROPOSITION 057 - CRIMINAL SENTENCES. JUVENILE CRIMINAL PROCEEDINGS AND SENTENCING. INITIATIVE CONSTITUTIONAL AMENDMENT AND STATUTE.                           13\n",
       "PROPOSITION 056 - CIGARETTE TAX TO FUND HEALTHCARE, TOBACCO USE PREVENTION, RESEARCH, AND LAW ENFORCEMENT. INITIATIVE CONSTITUTIONAL AMENDMENT AND STATUTE.    12\n",
       "PROPOSITION 064- MARIJUANA LEGALIZATION. INITIATIVE STATUTE.                                                                                                   11\n",
       "PROPOSITION 066- DEATH PENALTY. PROCEDURES. INITIATIVE STATUTE.                                                                                                 9\n",
       "PROPOSITION 055 - TAX EXTENSION TO FUND EDUCATION AND HEALTHCARE. INITIATIVE CONSTITUTIONAL AMENDMENT.                                                          8\n",
       "PROPOSITION 067- REFERENDUM TO OVERTURN BAN ON SINGLE-USE PLASTIC BAGS.                                                                                         7\n",
       "PROPOSITION 062- DEATH PENALTY. INITIATIVE STATUTE.                                                                                                             7\n",
       "PROPOSITION 059- SB 254 (CHAPTER 20, STATUTES OF 2016), ALLEN. CAMPAIGN FINANCE: VOTER INSTRUCTION                                                              6\n",
       "PROPOSITION 053 - REVENUE BONDS. STATEWIDE VOTER APPROVAL. INITIATIVE CONSTITUTIONAL AMENDMENT.                                                                 4\n",
       "PROPOSITION 054 - LEGISLATURE. LEGISLATION AND PROCEEDINGS. INITIATIVE CONSTITUTIONAL AMENDMENT AND STATUTE.                                                    4\n",
       "PROPOSITION 058 - SB 1174 (CHAPTER 753, STATUTES OF 2014), LARA. ENGLISH LANGUAGE EDUCATION                                                                     4\n",
       "PROPOSITION 063- FIREARMS. AMMUNITION SALES. INTIATIVE STATUTE.                                                                                                 4\n",
       "PROPOSITION 051 - SCHOOL BONDS. FUNDING FOR K-12 SCHOOL AND COMMUNITY COLLEGE FACILITIES. INITIATIVE STATUTORY AMENDMENT.                                       4\n",
       "PROPOSITION 052 - STATE FEES ON HOSPITALS. FEDERAL MEDI-CAL MATCHING FUNDS. INITIATIVE STATUTORY AND CONSTITUTIONAL AMENDMENT.                                  3\n",
       "PROPOSITION 061- STATE PRESCRIPTION DRUG PURCHASES. PRICING STANDARDS. INITIATIVE STATUTE.                                                                      3\n",
       "PROPOSITION 060- ADULT FILMS. CONDOMS. HEALTH REQUIREMENTS. INITIATIVE STATUTE.                                                                                 2\n",
       "PROPOSITION 065- CARRY-OUT BAGS. CHARGES. INITIATIVE STATUTE.                                                                                                   1\n",
       "Name: prop_name, dtype: int64"
      ]
     },
     "execution_count": 104,
     "metadata": {},
     "output_type": "execute_result"
    }
   ],
   "source": [
    "type(props.prop_name.value_counts())\n",
    "props.prop_name.value_counts()"
   ]
  },
  {
   "cell_type": "code",
   "execution_count": 105,
   "metadata": {
    "collapsed": true
   },
   "outputs": [],
   "source": [
    "prop=props[props.prop_name=='PROPOSITION 062- DEATH PENALTY. INITIATIVE STATUTE.']"
   ]
  },
  {
   "cell_type": "code",
   "execution_count": 106,
   "metadata": {},
   "outputs": [
    {
     "data": {
      "text/html": [
       "<div>\n",
       "<style>\n",
       "    .dataframe thead tr:only-child th {\n",
       "        text-align: right;\n",
       "    }\n",
       "\n",
       "    .dataframe thead th {\n",
       "        text-align: left;\n",
       "    }\n",
       "\n",
       "    .dataframe tbody tr th {\n",
       "        vertical-align: top;\n",
       "    }\n",
       "</style>\n",
       "<table border=\"1\" class=\"dataframe\">\n",
       "  <thead>\n",
       "    <tr style=\"text-align: right;\">\n",
       "      <th></th>\n",
       "      <th>ocd_prop_id</th>\n",
       "      <th>calaccess_prop_id</th>\n",
       "      <th>ccdc_prop_id</th>\n",
       "      <th>prop_name</th>\n",
       "      <th>ccdc_committee_id</th>\n",
       "      <th>calaccess_committee_id</th>\n",
       "      <th>committee_name</th>\n",
       "      <th>committee_position</th>\n",
       "    </tr>\n",
       "  </thead>\n",
       "  <tbody>\n",
       "    <tr>\n",
       "      <th>63</th>\n",
       "      <td>ocd-contest/cad98dde-416b-4cb3-8565-c1e8079511b3</td>\n",
       "      <td>1381268</td>\n",
       "      <td>81</td>\n",
       "      <td>PROPOSITION 062- DEATH PENALTY. INITIATIVE STA...</td>\n",
       "      <td>445</td>\n",
       "      <td>1380590</td>\n",
       "      <td>YES ON 62, NO ON 66. REPLACE THE COSTLY, FAILE...</td>\n",
       "      <td>SUPPORT</td>\n",
       "    </tr>\n",
       "    <tr>\n",
       "      <th>64</th>\n",
       "      <td>ocd-contest/cad98dde-416b-4cb3-8565-c1e8079511b3</td>\n",
       "      <td>1381268</td>\n",
       "      <td>81</td>\n",
       "      <td>PROPOSITION 062- DEATH PENALTY. INITIATIVE STA...</td>\n",
       "      <td>446</td>\n",
       "      <td>1302403</td>\n",
       "      <td>CALIFORNIA CORRECTIONAL PEACE OFFICERS ASSOCIA...</td>\n",
       "      <td>OPPOSE</td>\n",
       "    </tr>\n",
       "    <tr>\n",
       "      <th>65</th>\n",
       "      <td>ocd-contest/cad98dde-416b-4cb3-8565-c1e8079511b3</td>\n",
       "      <td>1381268</td>\n",
       "      <td>81</td>\n",
       "      <td>PROPOSITION 062- DEATH PENALTY. INITIATIVE STA...</td>\n",
       "      <td>447</td>\n",
       "      <td>1346266</td>\n",
       "      <td>CALIFORNIANS TO MEND, NOT END, THE DEATH PENAL...</td>\n",
       "      <td>OPPOSE</td>\n",
       "    </tr>\n",
       "    <tr>\n",
       "      <th>66</th>\n",
       "      <td>ocd-contest/cad98dde-416b-4cb3-8565-c1e8079511b3</td>\n",
       "      <td>1381268</td>\n",
       "      <td>81</td>\n",
       "      <td>PROPOSITION 062- DEATH PENALTY. INITIATIVE STA...</td>\n",
       "      <td>448</td>\n",
       "      <td>1391170</td>\n",
       "      <td>MILLION VOTER PROJECT ACTION FUND - YES ON 55,...</td>\n",
       "      <td>SUPPORT</td>\n",
       "    </tr>\n",
       "    <tr>\n",
       "      <th>67</th>\n",
       "      <td>ocd-contest/cad98dde-416b-4cb3-8565-c1e8079511b3</td>\n",
       "      <td>1381268</td>\n",
       "      <td>81</td>\n",
       "      <td>PROPOSITION 062- DEATH PENALTY. INITIATIVE STA...</td>\n",
       "      <td>449</td>\n",
       "      <td>1385745</td>\n",
       "      <td>FUND FOR POLICY REFORM (NONPROFIT 501(C)(4))</td>\n",
       "      <td>SUPPORT</td>\n",
       "    </tr>\n",
       "  </tbody>\n",
       "</table>\n",
       "</div>"
      ],
      "text/plain": [
       "                                         ocd_prop_id  calaccess_prop_id  \\\n",
       "63  ocd-contest/cad98dde-416b-4cb3-8565-c1e8079511b3            1381268   \n",
       "64  ocd-contest/cad98dde-416b-4cb3-8565-c1e8079511b3            1381268   \n",
       "65  ocd-contest/cad98dde-416b-4cb3-8565-c1e8079511b3            1381268   \n",
       "66  ocd-contest/cad98dde-416b-4cb3-8565-c1e8079511b3            1381268   \n",
       "67  ocd-contest/cad98dde-416b-4cb3-8565-c1e8079511b3            1381268   \n",
       "\n",
       "    ccdc_prop_id                                          prop_name  \\\n",
       "63            81  PROPOSITION 062- DEATH PENALTY. INITIATIVE STA...   \n",
       "64            81  PROPOSITION 062- DEATH PENALTY. INITIATIVE STA...   \n",
       "65            81  PROPOSITION 062- DEATH PENALTY. INITIATIVE STA...   \n",
       "66            81  PROPOSITION 062- DEATH PENALTY. INITIATIVE STA...   \n",
       "67            81  PROPOSITION 062- DEATH PENALTY. INITIATIVE STA...   \n",
       "\n",
       "    ccdc_committee_id  calaccess_committee_id  \\\n",
       "63                445                 1380590   \n",
       "64                446                 1302403   \n",
       "65                447                 1346266   \n",
       "66                448                 1391170   \n",
       "67                449                 1385745   \n",
       "\n",
       "                                       committee_name committee_position  \n",
       "63  YES ON 62, NO ON 66. REPLACE THE COSTLY, FAILE...            SUPPORT  \n",
       "64  CALIFORNIA CORRECTIONAL PEACE OFFICERS ASSOCIA...             OPPOSE  \n",
       "65  CALIFORNIANS TO MEND, NOT END, THE DEATH PENAL...             OPPOSE  \n",
       "66  MILLION VOTER PROJECT ACTION FUND - YES ON 55,...            SUPPORT  \n",
       "67       FUND FOR POLICY REFORM (NONPROFIT 501(C)(4))            SUPPORT  "
      ]
     },
     "execution_count": 106,
     "metadata": {},
     "output_type": "execute_result"
    }
   ],
   "source": [
    "prop.head()"
   ]
  },
  {
   "cell_type": "code",
   "execution_count": 107,
   "metadata": {
    "collapsed": true
   },
   "outputs": [],
   "source": [
    "merge=pd.merge(contribs, prop, on='calaccess_committee_id')"
   ]
  },
  {
   "cell_type": "code",
   "execution_count": 108,
   "metadata": {},
   "outputs": [
    {
     "data": {
      "text/html": [
       "<div>\n",
       "<style>\n",
       "    .dataframe thead tr:only-child th {\n",
       "        text-align: right;\n",
       "    }\n",
       "\n",
       "    .dataframe thead th {\n",
       "        text-align: left;\n",
       "    }\n",
       "\n",
       "    .dataframe tbody tr th {\n",
       "        vertical-align: top;\n",
       "    }\n",
       "</style>\n",
       "<table border=\"1\" class=\"dataframe\">\n",
       "  <thead>\n",
       "    <tr style=\"text-align: right;\">\n",
       "      <th></th>\n",
       "      <th>calaccess_committee_id</th>\n",
       "      <th>committee_name_x</th>\n",
       "      <th>calaccess_filing_id</th>\n",
       "      <th>date_received</th>\n",
       "      <th>contributor_lastname</th>\n",
       "      <th>contributor_firstname</th>\n",
       "      <th>contributor_city</th>\n",
       "      <th>contributor_state</th>\n",
       "      <th>contributor_zip</th>\n",
       "      <th>contributor_employer</th>\n",
       "      <th>contributor_occupation</th>\n",
       "      <th>contributor_is_self_employed</th>\n",
       "      <th>amount</th>\n",
       "      <th>ocd_prop_id</th>\n",
       "      <th>calaccess_prop_id</th>\n",
       "      <th>ccdc_prop_id</th>\n",
       "      <th>prop_name</th>\n",
       "      <th>ccdc_committee_id</th>\n",
       "      <th>committee_name_y</th>\n",
       "      <th>committee_position</th>\n",
       "    </tr>\n",
       "  </thead>\n",
       "  <tbody>\n",
       "    <tr>\n",
       "      <th>34437</th>\n",
       "      <td>1380590</td>\n",
       "      <td>YES ON 62, NO ON 66. REPLACE THE COSTLY, FAILE...</td>\n",
       "      <td>2130864</td>\n",
       "      <td>2016-11-08</td>\n",
       "      <td>MOUNGER</td>\n",
       "      <td>PHILIP</td>\n",
       "      <td>AUSTIN</td>\n",
       "      <td>TX</td>\n",
       "      <td>78738</td>\n",
       "      <td>NONE</td>\n",
       "      <td>UNEMPLOYED</td>\n",
       "      <td>False</td>\n",
       "      <td>10.0</td>\n",
       "      <td>ocd-contest/cad98dde-416b-4cb3-8565-c1e8079511b3</td>\n",
       "      <td>1381268</td>\n",
       "      <td>81</td>\n",
       "      <td>PROPOSITION 062- DEATH PENALTY. INITIATIVE STA...</td>\n",
       "      <td>445</td>\n",
       "      <td>YES ON 62, NO ON 66. REPLACE THE COSTLY, FAILE...</td>\n",
       "      <td>SUPPORT</td>\n",
       "    </tr>\n",
       "    <tr>\n",
       "      <th>34438</th>\n",
       "      <td>1380590</td>\n",
       "      <td>YES ON 62, NO ON 66. REPLACE THE COSTLY, FAILE...</td>\n",
       "      <td>2130864</td>\n",
       "      <td>2016-11-03</td>\n",
       "      <td>MULTHAUP</td>\n",
       "      <td>ERIC</td>\n",
       "      <td>MILL VALLEY</td>\n",
       "      <td>CA</td>\n",
       "      <td>94941</td>\n",
       "      <td>LAW OFFICE OF ERIC MULTHAUP</td>\n",
       "      <td>ATTORNEY</td>\n",
       "      <td>False</td>\n",
       "      <td>100.0</td>\n",
       "      <td>ocd-contest/cad98dde-416b-4cb3-8565-c1e8079511b3</td>\n",
       "      <td>1381268</td>\n",
       "      <td>81</td>\n",
       "      <td>PROPOSITION 062- DEATH PENALTY. INITIATIVE STA...</td>\n",
       "      <td>445</td>\n",
       "      <td>YES ON 62, NO ON 66. REPLACE THE COSTLY, FAILE...</td>\n",
       "      <td>SUPPORT</td>\n",
       "    </tr>\n",
       "    <tr>\n",
       "      <th>34439</th>\n",
       "      <td>1380590</td>\n",
       "      <td>YES ON 62, NO ON 66. REPLACE THE COSTLY, FAILE...</td>\n",
       "      <td>2130864</td>\n",
       "      <td>2016-11-20</td>\n",
       "      <td>MULTHAUP</td>\n",
       "      <td>ERIC</td>\n",
       "      <td>MILL VALLEY</td>\n",
       "      <td>CA</td>\n",
       "      <td>94941</td>\n",
       "      <td>LAW OFFICE OF ERIC MULTHAUP</td>\n",
       "      <td>ATTORNEY</td>\n",
       "      <td>False</td>\n",
       "      <td>250.0</td>\n",
       "      <td>ocd-contest/cad98dde-416b-4cb3-8565-c1e8079511b3</td>\n",
       "      <td>1381268</td>\n",
       "      <td>81</td>\n",
       "      <td>PROPOSITION 062- DEATH PENALTY. INITIATIVE STA...</td>\n",
       "      <td>445</td>\n",
       "      <td>YES ON 62, NO ON 66. REPLACE THE COSTLY, FAILE...</td>\n",
       "      <td>SUPPORT</td>\n",
       "    </tr>\n",
       "    <tr>\n",
       "      <th>34440</th>\n",
       "      <td>1380590</td>\n",
       "      <td>YES ON 62, NO ON 66. REPLACE THE COSTLY, FAILE...</td>\n",
       "      <td>2130864</td>\n",
       "      <td>2016-11-06</td>\n",
       "      <td>MURCH</td>\n",
       "      <td>JACKIE</td>\n",
       "      <td>TRABUCO CANYON</td>\n",
       "      <td>CA</td>\n",
       "      <td>92679</td>\n",
       "      <td>THE RULE GROUP</td>\n",
       "      <td>INSURANCE ACCOUNT MGR</td>\n",
       "      <td>False</td>\n",
       "      <td>50.0</td>\n",
       "      <td>ocd-contest/cad98dde-416b-4cb3-8565-c1e8079511b3</td>\n",
       "      <td>1381268</td>\n",
       "      <td>81</td>\n",
       "      <td>PROPOSITION 062- DEATH PENALTY. INITIATIVE STA...</td>\n",
       "      <td>445</td>\n",
       "      <td>YES ON 62, NO ON 66. REPLACE THE COSTLY, FAILE...</td>\n",
       "      <td>SUPPORT</td>\n",
       "    </tr>\n",
       "    <tr>\n",
       "      <th>34441</th>\n",
       "      <td>1380590</td>\n",
       "      <td>YES ON 62, NO ON 66. REPLACE THE COSTLY, FAILE...</td>\n",
       "      <td>2130864</td>\n",
       "      <td>2016-11-05</td>\n",
       "      <td>MURRA</td>\n",
       "      <td>LAURA</td>\n",
       "      <td>BERKELEY</td>\n",
       "      <td>CA</td>\n",
       "      <td>94708</td>\n",
       "      <td>NONE</td>\n",
       "      <td>UNEMPLOYED</td>\n",
       "      <td>False</td>\n",
       "      <td>100.0</td>\n",
       "      <td>ocd-contest/cad98dde-416b-4cb3-8565-c1e8079511b3</td>\n",
       "      <td>1381268</td>\n",
       "      <td>81</td>\n",
       "      <td>PROPOSITION 062- DEATH PENALTY. INITIATIVE STA...</td>\n",
       "      <td>445</td>\n",
       "      <td>YES ON 62, NO ON 66. REPLACE THE COSTLY, FAILE...</td>\n",
       "      <td>SUPPORT</td>\n",
       "    </tr>\n",
       "  </tbody>\n",
       "</table>\n",
       "</div>"
      ],
      "text/plain": [
       "       calaccess_committee_id  \\\n",
       "34437                 1380590   \n",
       "34438                 1380590   \n",
       "34439                 1380590   \n",
       "34440                 1380590   \n",
       "34441                 1380590   \n",
       "\n",
       "                                        committee_name_x  calaccess_filing_id  \\\n",
       "34437  YES ON 62, NO ON 66. REPLACE THE COSTLY, FAILE...              2130864   \n",
       "34438  YES ON 62, NO ON 66. REPLACE THE COSTLY, FAILE...              2130864   \n",
       "34439  YES ON 62, NO ON 66. REPLACE THE COSTLY, FAILE...              2130864   \n",
       "34440  YES ON 62, NO ON 66. REPLACE THE COSTLY, FAILE...              2130864   \n",
       "34441  YES ON 62, NO ON 66. REPLACE THE COSTLY, FAILE...              2130864   \n",
       "\n",
       "      date_received contributor_lastname contributor_firstname  \\\n",
       "34437    2016-11-08              MOUNGER                PHILIP   \n",
       "34438    2016-11-03             MULTHAUP                  ERIC   \n",
       "34439    2016-11-20             MULTHAUP                  ERIC   \n",
       "34440    2016-11-06                MURCH                JACKIE   \n",
       "34441    2016-11-05                MURRA                 LAURA   \n",
       "\n",
       "      contributor_city contributor_state contributor_zip  \\\n",
       "34437           AUSTIN                TX           78738   \n",
       "34438      MILL VALLEY                CA           94941   \n",
       "34439      MILL VALLEY                CA           94941   \n",
       "34440   TRABUCO CANYON                CA           92679   \n",
       "34441         BERKELEY                CA           94708   \n",
       "\n",
       "              contributor_employer contributor_occupation  \\\n",
       "34437                         NONE             UNEMPLOYED   \n",
       "34438  LAW OFFICE OF ERIC MULTHAUP               ATTORNEY   \n",
       "34439  LAW OFFICE OF ERIC MULTHAUP               ATTORNEY   \n",
       "34440               THE RULE GROUP  INSURANCE ACCOUNT MGR   \n",
       "34441                         NONE             UNEMPLOYED   \n",
       "\n",
       "       contributor_is_self_employed  amount  \\\n",
       "34437                         False    10.0   \n",
       "34438                         False   100.0   \n",
       "34439                         False   250.0   \n",
       "34440                         False    50.0   \n",
       "34441                         False   100.0   \n",
       "\n",
       "                                            ocd_prop_id  calaccess_prop_id  \\\n",
       "34437  ocd-contest/cad98dde-416b-4cb3-8565-c1e8079511b3            1381268   \n",
       "34438  ocd-contest/cad98dde-416b-4cb3-8565-c1e8079511b3            1381268   \n",
       "34439  ocd-contest/cad98dde-416b-4cb3-8565-c1e8079511b3            1381268   \n",
       "34440  ocd-contest/cad98dde-416b-4cb3-8565-c1e8079511b3            1381268   \n",
       "34441  ocd-contest/cad98dde-416b-4cb3-8565-c1e8079511b3            1381268   \n",
       "\n",
       "       ccdc_prop_id                                          prop_name  \\\n",
       "34437            81  PROPOSITION 062- DEATH PENALTY. INITIATIVE STA...   \n",
       "34438            81  PROPOSITION 062- DEATH PENALTY. INITIATIVE STA...   \n",
       "34439            81  PROPOSITION 062- DEATH PENALTY. INITIATIVE STA...   \n",
       "34440            81  PROPOSITION 062- DEATH PENALTY. INITIATIVE STA...   \n",
       "34441            81  PROPOSITION 062- DEATH PENALTY. INITIATIVE STA...   \n",
       "\n",
       "       ccdc_committee_id                                   committee_name_y  \\\n",
       "34437                445  YES ON 62, NO ON 66. REPLACE THE COSTLY, FAILE...   \n",
       "34438                445  YES ON 62, NO ON 66. REPLACE THE COSTLY, FAILE...   \n",
       "34439                445  YES ON 62, NO ON 66. REPLACE THE COSTLY, FAILE...   \n",
       "34440                445  YES ON 62, NO ON 66. REPLACE THE COSTLY, FAILE...   \n",
       "34441                445  YES ON 62, NO ON 66. REPLACE THE COSTLY, FAILE...   \n",
       "\n",
       "      committee_position  \n",
       "34437            SUPPORT  \n",
       "34438            SUPPORT  \n",
       "34439            SUPPORT  \n",
       "34440            SUPPORT  \n",
       "34441            SUPPORT  "
      ]
     },
     "execution_count": 108,
     "metadata": {},
     "output_type": "execute_result"
    }
   ],
   "source": [
    "merge.tail()"
   ]
  },
  {
   "cell_type": "code",
   "execution_count": 109,
   "metadata": {},
   "outputs": [
    {
     "data": {
      "text/plain": [
       "32836678.180000003"
      ]
     },
     "execution_count": 109,
     "metadata": {},
     "output_type": "execute_result"
    }
   ],
   "source": [
    "merge.amount.sum()"
   ]
  },
  {
   "cell_type": "code",
   "execution_count": 110,
   "metadata": {
    "collapsed": true
   },
   "outputs": [],
   "source": [
    "support= merge[merge.committee_position=='SUPPORT']"
   ]
  },
  {
   "cell_type": "code",
   "execution_count": 111,
   "metadata": {
    "collapsed": true
   },
   "outputs": [],
   "source": [
    "oppose= merge[merge.committee_position=='OPPOSE']"
   ]
  },
  {
   "cell_type": "code",
   "execution_count": 112,
   "metadata": {},
   "outputs": [
    {
     "data": {
      "text/plain": [
       "16000608.370000001"
      ]
     },
     "execution_count": 112,
     "metadata": {},
     "output_type": "execute_result"
    }
   ],
   "source": [
    "support.amount.sum()"
   ]
  },
  {
   "cell_type": "code",
   "execution_count": 113,
   "metadata": {},
   "outputs": [
    {
     "data": {
      "text/plain": [
       "16836069.809999999"
      ]
     },
     "execution_count": 113,
     "metadata": {},
     "output_type": "execute_result"
    }
   ],
   "source": [
    "oppose.amount.sum()"
   ]
  },
  {
   "cell_type": "code",
   "execution_count": 114,
   "metadata": {},
   "outputs": [
    {
     "data": {
      "text/plain": [
       "0.51272146706527777"
      ]
     },
     "execution_count": 114,
     "metadata": {},
     "output_type": "execute_result"
    }
   ],
   "source": [
    "oppose.amount.sum()/merge.amount.sum()"
   ]
  },
  {
   "cell_type": "code",
   "execution_count": 115,
   "metadata": {},
   "outputs": [
    {
     "data": {
      "text/html": [
       "<div>\n",
       "<style>\n",
       "    .dataframe thead tr:only-child th {\n",
       "        text-align: right;\n",
       "    }\n",
       "\n",
       "    .dataframe thead th {\n",
       "        text-align: left;\n",
       "    }\n",
       "\n",
       "    .dataframe tbody tr th {\n",
       "        vertical-align: top;\n",
       "    }\n",
       "</style>\n",
       "<table border=\"1\" class=\"dataframe\">\n",
       "  <thead>\n",
       "    <tr style=\"text-align: right;\">\n",
       "      <th></th>\n",
       "      <th>prop_name</th>\n",
       "      <th>contributor_firstname</th>\n",
       "      <th>contributor_lastname</th>\n",
       "      <th>amount</th>\n",
       "    </tr>\n",
       "  </thead>\n",
       "  <tbody>\n",
       "    <tr>\n",
       "      <th>29634</th>\n",
       "      <td>PROPOSITION 062- DEATH PENALTY. INITIATIVE STA...</td>\n",
       "      <td>NaN</td>\n",
       "      <td>FUND FOR POLICY REFORM</td>\n",
       "      <td>1970000.0</td>\n",
       "    </tr>\n",
       "  </tbody>\n",
       "</table>\n",
       "</div>"
      ],
      "text/plain": [
       "                                               prop_name  \\\n",
       "29634  PROPOSITION 062- DEATH PENALTY. INITIATIVE STA...   \n",
       "\n",
       "      contributor_firstname    contributor_lastname     amount  \n",
       "29634                   NaN  FUND FOR POLICY REFORM  1970000.0  "
      ]
     },
     "execution_count": 115,
     "metadata": {},
     "output_type": "execute_result"
    }
   ],
   "source": [
    "merge.sort_values('amount',ascending=False).head(1)[['prop_name','contributor_firstname','contributor_lastname','amount']]"
   ]
  },
  {
   "cell_type": "code",
   "execution_count": 125,
   "metadata": {},
   "outputs": [
    {
     "data": {
      "text/html": [
       "<div>\n",
       "<style>\n",
       "    .dataframe thead tr:only-child th {\n",
       "        text-align: right;\n",
       "    }\n",
       "\n",
       "    .dataframe thead th {\n",
       "        text-align: left;\n",
       "    }\n",
       "\n",
       "    .dataframe tbody tr th {\n",
       "        vertical-align: top;\n",
       "    }\n",
       "</style>\n",
       "<table border=\"1\" class=\"dataframe\">\n",
       "  <thead>\n",
       "    <tr style=\"text-align: right;\">\n",
       "      <th></th>\n",
       "      <th>contributor_lastname</th>\n",
       "      <th>contributor_firstname</th>\n",
       "      <th>amount</th>\n",
       "      <th>contributor_city</th>\n",
       "    </tr>\n",
       "  </thead>\n",
       "  <tbody>\n",
       "    <tr>\n",
       "      <th>2620</th>\n",
       "      <td>JOBB</td>\n",
       "      <td>DANIEL S</td>\n",
       "      <td>287.08</td>\n",
       "      <td>WEST SACRAMENTO</td>\n",
       "    </tr>\n",
       "    <tr>\n",
       "      <th>17148</th>\n",
       "      <td>JOBE</td>\n",
       "      <td>MICHELLE R</td>\n",
       "      <td>287.08</td>\n",
       "      <td>WEST SACRAMENTO</td>\n",
       "    </tr>\n",
       "    <tr>\n",
       "      <th>31490</th>\n",
       "      <td>LAURENE POWELL JOBS, INCLUDING EMERSON COLLECT...</td>\n",
       "      <td>NaN</td>\n",
       "      <td>500000.00</td>\n",
       "      <td>PALO ALTO</td>\n",
       "    </tr>\n",
       "    <tr>\n",
       "      <th>34320</th>\n",
       "      <td>LAURENE POWELL JOBS, INCLUDING EMERSON COLLECT...</td>\n",
       "      <td>NaN</td>\n",
       "      <td>100000.00</td>\n",
       "      <td>PALO ALTO</td>\n",
       "    </tr>\n",
       "  </tbody>\n",
       "</table>\n",
       "</div>"
      ],
      "text/plain": [
       "                                    contributor_lastname  \\\n",
       "2620                                                JOBB   \n",
       "17148                                               JOBE   \n",
       "31490  LAURENE POWELL JOBS, INCLUDING EMERSON COLLECT...   \n",
       "34320  LAURENE POWELL JOBS, INCLUDING EMERSON COLLECT...   \n",
       "\n",
       "      contributor_firstname     amount contributor_city  \n",
       "2620               DANIEL S     287.08  WEST SACRAMENTO  \n",
       "17148            MICHELLE R     287.08  WEST SACRAMENTO  \n",
       "31490                   NaN  500000.00        PALO ALTO  \n",
       "34320                   NaN  100000.00        PALO ALTO  "
      ]
     },
     "execution_count": 125,
     "metadata": {},
     "output_type": "execute_result"
    }
   ],
   "source": [
    "merge[merge.contributor_lastname.fillna('NULL').str.contains('JOB')][['contributor_lastname',\\\n",
    "                                                                      'contributor_firstname','amount'\\\n",
    "                                                                    ,'contributor_city']]"
   ]
  },
  {
   "cell_type": "code",
   "execution_count": null,
   "metadata": {
    "collapsed": true
   },
   "outputs": [],
   "source": []
  }
 ],
 "metadata": {
  "kernelspec": {
   "display_name": "Python 2",
   "language": "python",
   "name": "python2"
  },
  "language_info": {
   "codemirror_mode": {
    "name": "ipython",
    "version": 2
   },
   "file_extension": ".py",
   "mimetype": "text/x-python",
   "name": "python",
   "nbconvert_exporter": "python",
   "pygments_lexer": "ipython2",
   "version": "2.7.13"
  }
 },
 "nbformat": 4,
 "nbformat_minor": 2
}
